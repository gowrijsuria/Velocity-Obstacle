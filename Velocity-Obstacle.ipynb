{
 "cells": [
  {
   "cell_type": "markdown",
   "metadata": {},
   "source": [
    "## Obstacle Avoidance using Collision Cone"
   ]
  },
  {
   "cell_type": "markdown",
   "metadata": {},
   "source": [
    "* A single holonomic robot is supposed to reach its goal by avoiding collision with moving obstacles. We use velocity obstacle formulation to perform goal reaching obstacle avoidance in a dynamic environment.\n",
    "* We try to calculate an optimal velocity such that the agent reaches the goal while avoiding the obstacles using collision cone constraints. \n",
    "* We perform a sampling based method to generate different velocities within a range and then find the optimal velocity with minimum cost."
   ]
  },
  {
   "cell_type": "markdown",
   "metadata": {},
   "source": [
    "<!-- ![VO.png](./VO.pngwidth = 400) -->\n",
    "<div>\n",
    "<img src=\"./VO.png\" width=\"300\"/>\n",
    "</div>"
   ]
  },
  {
   "cell_type": "code",
   "execution_count": 1,
   "metadata": {},
   "outputs": [],
   "source": [
    "import numpy as np\n",
    "import matplotlib.pyplot as plt\n",
    "%matplotlib tk"
   ]
  },
  {
   "cell_type": "markdown",
   "metadata": {},
   "source": [
    "### Assigning the goal positions of robot and obstacles\n",
    "* We fix the goal positions initially and set a timestep of 0.01"
   ]
  },
  {
   "cell_type": "code",
   "execution_count": 2,
   "metadata": {},
   "outputs": [],
   "source": [
    "dt = 0.01\n",
    "\n",
    "goal_robot = np.array([-5,15])\n",
    "goal_obstacle = np.array([10,0]) \n",
    "goal_obstacle1 = np.array([0,0]) \n",
    "goal_obstacle2 = np.array([-10,10]) "
   ]
  },
  {
   "cell_type": "markdown",
   "metadata": {},
   "source": [
    "### Classes for Robot and Moving Obstacle"
   ]
  },
  {
   "cell_type": "code",
   "execution_count": 3,
   "metadata": {},
   "outputs": [],
   "source": [
    "class Robot(object):\n",
    "    def __init__(self, robot_radius, rx, ry, vx, vy):\n",
    "        self.rx = rx\n",
    "        self.ry = ry\n",
    "        self.vx = vx\n",
    "        self.vy = vy\n",
    "        self.radius = robot_radius \n",
    "        self.velocity = vx,vy\n",
    "        self.position = rx,ry\n",
    "\n",
    "    def new_pos_x(self, dt):\n",
    "        return self.rx + self.vx*dt\n",
    "\n",
    "    def new_pos_y(self, dt):\n",
    "        return self.ry + self.vy*dt\n",
    "\n",
    "    def update_velocity(self, velocity):\n",
    "        self.vx = velocity[0]\n",
    "        self.vy = velocity[1]\n",
    "        self.velocity = velocity\n",
    "\n",
    "    def update_position(self,position):\n",
    "        self.rx = position[0]\n",
    "        self.ry = position[1]\n",
    "        self.position = position"
   ]
  },
  {
   "cell_type": "code",
   "execution_count": 4,
   "metadata": {},
   "outputs": [],
   "source": [
    "class Obstacle(object):\n",
    "    def __init__(self, obs_radius, rx, ry, vx, vy):\n",
    "        self.radius = obs_radius \n",
    "        self.rx = rx\n",
    "        self.ry = ry\n",
    "        self.vx = vx\n",
    "        self.vy = vy\n",
    "        self.velocity = vx,vy\n",
    "        self.position = rx,ry\n",
    "\n",
    "\n",
    "    def new_pos_x(self, dt):\n",
    "        return self.rx + self.vx*dt\n",
    "\n",
    "    def new_pos_y(self, dt):\n",
    "        return self.ry + self.vy*dt\n",
    "\n",
    "    def update_velocity(self, velocity):\n",
    "        self.vx = velocity[0]\n",
    "        self.vy = velocity[1]\n",
    "        self.velocity = velocity\n",
    "\n",
    "\n",
    "    def update_position(self, position):\n",
    "        self.rx=position[0]\n",
    "        self.ry=position[1]\n",
    "        self.position = position"
   ]
  },
  {
   "cell_type": "markdown",
   "metadata": {},
   "source": [
    "### Checking the collision cone constraint\n",
    "* The following expression represents the collision cone constraint.\n",
    "\n",
    "$$  r^{2} - \\frac{||r.(v_{rb}+ \\Delta v_{r})||^{2}}{||v_{rb}+\\Delta v_{r}||^{2}} \\geq R^{2}$$\n",
    "\n",
    "    \n",
    " where \n",
    "    $r$ - position vector of robot, $v_{r}$ - velocity of robot, $v_{rb}$ - relative velocity of robot wrt obstacle\n",
    "\n",
    "      \n",
    "$$(v_{rb}+ \\Delta v_{r}) = v_{rnew} - v_{b} $$\n",
    "* The velocities with non-negative constraint value are selected and the one corresponding to least cost is chosen finally. The constraint_val is returned by collision_cone_val() function\n",
    "\n",
    "$$ ({r^{2} - R^{2})||v_{rb}+\\Delta v_{r}||^{2} - ||r.(v_{rb}+ \\Delta v_{r})||^{2}} \\geq  0 $$ \n"
   ]
  },
  {
   "cell_type": "code",
   "execution_count": 5,
   "metadata": {},
   "outputs": [],
   "source": [
    "def collision_cone_val(robot, obstacle):\n",
    "    rx = robot.rx\n",
    "    ry = robot.ry\n",
    "    vrx = robot.vx\n",
    "    vry = robot.vy\n",
    "\n",
    "    obx = obstacle.rx\n",
    "    oby = obstacle.ry\n",
    "    vobx = obstacle.vx\n",
    "    voby = obstacle.vy\n",
    "    R = robot.radius + obstacle.radius\n",
    "    # if constraint_val >= 0, no collision , else there will be a collision in the future\n",
    "    constraint_val = -((rx - obx) * (vrx - vobx) + (ry - oby) * (vry - voby)) ** 2 + ( -R ** 2 + ( rx- obx) ** 2 + (ry - oby) ** 2) * ((vrx - vobx)**2 + (vry - voby)**2)\n",
    "    return constraint_val\n",
    "\n",
    "def Collision_check(robot, obstacle):\n",
    "    collision = np.linalg.norm(obstacle.position - robot.position) < (robot.radius + obstacle.radius)\n",
    "    if collision:\n",
    "        return True\n",
    "    return False\n"
   ]
  },
  {
   "cell_type": "markdown",
   "metadata": {},
   "source": [
    "### Sampling velocities"
   ]
  },
  {
   "cell_type": "code",
   "execution_count": 6,
   "metadata": {},
   "outputs": [],
   "source": [
    "def Sample_velocities():\n",
    "    velocity = np.arange(-5.0,5.0,1)\n",
    "    v_samples = [[x,y] for x in velocity for y in velocity]\n",
    "    return np.array(v_samples)\n"
   ]
  },
  {
   "cell_type": "markdown",
   "metadata": {},
   "source": [
    "### Finding the optimal velocity for no collision\n",
    "* We find the costs by L2 norm between the sampled velocities and the desired robot velocities.\n",
    "* There are 3 colllision cones corresponding to the 3 obstacles and we choose the indices that satisfy the collision constraints. For these indices, we take find the costs and take the common costs. \n",
    "* From the commmon costs , we return the optimal velocity that gives the minimum cost."
   ]
  },
  {
   "cell_type": "code",
   "execution_count": 7,
   "metadata": {},
   "outputs": [],
   "source": [
    "def Find_Optimalvelocity(desired_robot_velocity, sampled_velocities, cone_vals, cone_vals1, cone_vals2):\n",
    "\n",
    "    costs = []\n",
    "    for vel in sampled_velocities:\n",
    "        costs.append(np.linalg.norm(desired_robot_velocity - vel))\n",
    "    costs = np.array(costs)\n",
    "\n",
    "    nocollide_index = np.where(cone_vals >= 0)[0]\n",
    "\n",
    "    if len(nocollide_index) != 0:\n",
    "        possible_costs = np.take(costs, nocollide_index)\n",
    "    else:\n",
    "        possible_costs = costs\n",
    "\n",
    "    nocollide_index1 = np.where(cone_vals1 >= 0)[0]\n",
    "    if len(nocollide_index1) != 0:\n",
    "        possible_costs1 = np.take(costs,nocollide_index1)\n",
    "    else:\n",
    "        possible_costs1 = costs\n",
    "\n",
    "    nocollide_index2 = np.where(cone_vals2 >= 0)[0]\n",
    "    if len(nocollide_index2) != 0:\n",
    "        possible_costs2 = np.take(costs,nocollide_index2)\n",
    "    else:\n",
    "        possible_costs2 = costs\n",
    "\n",
    "    common_costs = [value for value in possible_costs if (value in possible_costs1 and value in possible_costs2)]\n",
    "    optimal_cost = np.amin(common_costs)\n",
    "\n",
    "    optimal_velocity_index = np.where(costs == optimal_cost)[0]\n",
    "    optimal_velocity = sampled_velocities[optimal_velocity_index[0]]\n",
    "\n",
    "    return optimal_velocity\n"
   ]
  },
  {
   "cell_type": "markdown",
   "metadata": {},
   "source": [
    "### Plotting the Optimal Trajectory"
   ]
  },
  {
   "cell_type": "code",
   "execution_count": 8,
   "metadata": {},
   "outputs": [],
   "source": [
    "def PlotTrajectory(trajectory, robot, obstacle, obstacle1, obstacle2):\n",
    "    plt.cla()\n",
    "    plt.gcf().canvas.mpl_connect('key_release_event',lambda event: [exit(0) if event.key == 'escape' else None])\n",
    "    plt.scatter(goal_robot[0],goal_robot[1],marker=\"X\", color='r')\n",
    "    plt.scatter(10,0,marker=\"o\", color='darkgreen')\n",
    "\n",
    "    circle1 = plt.Circle((robot.rx,robot.ry), robot.radius, color='black')\n",
    "    circle2 = plt.Circle((obstacle.rx,obstacle.ry), obstacle.radius, color='navy')\n",
    "    circle3 = plt.Circle((obstacle1.rx,obstacle1.ry), obstacle1.radius, color='green')\n",
    "    circle4 = plt.Circle((obstacle2.rx,obstacle2.ry), obstacle2.radius, color='crimson')\n",
    "\n",
    "    plt.gcf().gca().add_artist(circle1)\n",
    "    plt.gcf().gca().add_artist(circle2)\n",
    "    plt.gcf().gca().add_artist(circle3)\n",
    "    plt.gcf().gca().add_artist(circle4)\n",
    "\n",
    "    plot_traj = np.array(trajectory)\n",
    "    posx, posy = plot_traj.T\n",
    "    plt.plot(posx, posy,linewidth = \"2\", color = 'gray')\n",
    "    plt.xlim(-10, 15)\n",
    "    plt.ylim(-5, 20)\n",
    "    plt.title(\"Velocity Obstacle using Sampling\")\n",
    "\n",
    "    plt.pause(dt)\n"
   ]
  },
  {
   "cell_type": "markdown",
   "metadata": {},
   "source": [
    "## The Velocity Obstacle\n",
    "We first fix the start and goal positions for the robot and obstacles. To find the path from start to goal -\n",
    "* We update the robot and obstacle velocities with desired velocities\n",
    "* Then, we sample velocities and search for those that satisfy the collision cone constraints. \n",
    "* These velocities are passed to the Find_Optimalvelocity() function to return the velocity with minimum cost.\n",
    "* The new robot and obstacles positions are found with the optimal velocity. \n",
    "* The optimal trajectory is plotted.\n",
    "\n",
    "The loop terminates when the robot reaches the goal."
   ]
  },
  {
   "cell_type": "code",
   "execution_count": 9,
   "metadata": {},
   "outputs": [],
   "source": [
    "def Velocity_Obstacle():\n",
    "    robot = Robot(1, 10,0,0,0)\n",
    "    obstacle = Obstacle(1,0,10,0,0) \n",
    "    obstacle1 = Obstacle(1,9,9,0,0)\n",
    "    obstacle2 = Obstacle(1,0,15,0,0)\n",
    "    \n",
    "    trajectory = []\n",
    "    while ((np.linalg.norm(goal_robot - robot.position))>1):\n",
    "        desired_robot_velocity = ((goal_robot-robot.position)/np.linalg.norm(goal_robot-robot.position))*5\n",
    "        desired_obstacle_velocity = ((goal_obstacle-obstacle.position)/np.linalg.norm(goal_obstacle-obstacle.position))*1\n",
    "        desired_obstacle1_velocity = ((goal_obstacle1-obstacle1.position)/np.linalg.norm(goal_obstacle1-obstacle1.position))*5.0754\n",
    "        desired_obstacle2_velocity = ((goal_obstacle2-obstacle2.position)/np.linalg.norm(goal_obstacle2-obstacle2.position))*0.8\n",
    "\n",
    "        robot.update_velocity(desired_robot_velocity)\n",
    "        obstacle.update_velocity(desired_obstacle_velocity) #blue\n",
    "        obstacle1.update_velocity(desired_obstacle1_velocity) #green\n",
    "        obstacle2.update_velocity(desired_obstacle2_velocity) #black\n",
    "\n",
    "        cone_vals = []\n",
    "        cone_vals1=[]\n",
    "        cone_vals2=[]\n",
    "\n",
    "        sampled_velocities = Sample_velocities()\n",
    "        for vel in sampled_velocities:\n",
    "            robot.update_velocity(vel)\n",
    "            cone_vals.append(collision_cone_val(robot, obstacle))\n",
    "            cone_vals1.append(collision_cone_val(robot, obstacle1))\n",
    "            cone_vals2.append(collision_cone_val(robot, obstacle2))\n",
    "\n",
    "        cone_vals = np.array(cone_vals)\n",
    "        cone_vals1 = np.array(cone_vals1)\n",
    "        cone_vals2 = np.array(cone_vals2)\n",
    "\n",
    "        optimal_velocity = Find_Optimalvelocity(desired_robot_velocity, sampled_velocities, cone_vals, cone_vals1, cone_vals2)\n",
    "        robot.update_velocity(optimal_velocity)\n",
    "\n",
    "        robot.update_position(np.asarray((robot.new_pos_x(dt),robot.new_pos_y(dt))))\n",
    "        obstacle.update_position(np.asarray((obstacle.new_pos_x(dt),obstacle.new_pos_y(dt))))\n",
    "        obstacle1.update_position(np.asarray((obstacle1.new_pos_x(dt),obstacle1.new_pos_y(dt))))\n",
    "        obstacle2.update_position(np.asarray((obstacle2.new_pos_x(dt),obstacle2.new_pos_y(dt))))\n",
    "\n",
    "        trajectory.append(robot.position)\n",
    "        PlotTrajectory(trajectory, robot, obstacle, obstacle1, obstacle2)\n",
    "\n",
    "    plt.pause(0.0001)\n",
    "    plt.show()"
   ]
  },
  {
   "cell_type": "code",
   "execution_count": 10,
   "metadata": {},
   "outputs": [],
   "source": [
    "def Velocity_Obstacle2():\n",
    "    robot = Robot(1, 10,0,0,0)\n",
    "    obstacle = Obstacle(2,0,10,0,0) \n",
    "    obstacle1 = Obstacle(1.2,9,9,0,0)\n",
    "    obstacle2 = Obstacle(1.5,0,15,0,0)\n",
    "    \n",
    "    trajectory = []\n",
    "    while ((np.linalg.norm(goal_robot - robot.position))>1):\n",
    "        desired_robot_velocity = ((goal_robot-robot.position)/np.linalg.norm(goal_robot-robot.position))*5\n",
    "        desired_obstacle_velocity = ((goal_obstacle-obstacle.position)/np.linalg.norm(goal_obstacle-obstacle.position))*1\n",
    "        desired_obstacle1_velocity = ((goal_obstacle1-obstacle1.position)/np.linalg.norm(goal_obstacle1-obstacle1.position))*5.0754\n",
    "        desired_obstacle2_velocity = ((goal_obstacle2-obstacle2.position)/np.linalg.norm(goal_obstacle2-obstacle2.position))*0.8\n",
    "\n",
    "        robot.update_velocity(desired_robot_velocity)\n",
    "        obstacle.update_velocity(desired_obstacle_velocity) #blue\n",
    "        obstacle1.update_velocity(desired_obstacle1_velocity) #green\n",
    "        obstacle2.update_velocity(desired_obstacle2_velocity) #black\n",
    "\n",
    "        cone_vals = []\n",
    "        cone_vals1=[]\n",
    "        cone_vals2=[]\n",
    "\n",
    "        sampled_velocities = Sample_velocities()\n",
    "        for vel in sampled_velocities:\n",
    "            robot.update_velocity(vel)\n",
    "            cone_vals.append(collision_cone_val(robot, obstacle))\n",
    "            cone_vals1.append(collision_cone_val(robot, obstacle1))\n",
    "            cone_vals2.append(collision_cone_val(robot, obstacle2))\n",
    "\n",
    "        cone_vals = np.array(cone_vals)\n",
    "        cone_vals1 = np.array(cone_vals1)\n",
    "        cone_vals2 = np.array(cone_vals2)\n",
    "\n",
    "        optimal_velocity = Find_Optimalvelocity(desired_robot_velocity, sampled_velocities, cone_vals, cone_vals1, cone_vals2)\n",
    "        robot.update_velocity(optimal_velocity)\n",
    "\n",
    "        robot.update_position(np.asarray((robot.new_pos_x(dt),robot.new_pos_y(dt))))\n",
    "        obstacle.update_position(np.asarray((obstacle.new_pos_x(dt),obstacle.new_pos_y(dt))))\n",
    "        obstacle1.update_position(np.asarray((obstacle1.new_pos_x(dt),obstacle1.new_pos_y(dt))))\n",
    "        obstacle2.update_position(np.asarray((obstacle2.new_pos_x(dt),obstacle2.new_pos_y(dt))))\n",
    "\n",
    "        trajectory.append(robot.position)\n",
    "        PlotTrajectory(trajectory, robot, obstacle, obstacle1, obstacle2)\n",
    "\n",
    "    plt.pause(0.0001)\n",
    "    plt.show()"
   ]
  },
  {
   "cell_type": "code",
   "execution_count": 11,
   "metadata": {},
   "outputs": [],
   "source": [
    "Velocity_Obstacle()\n",
    "Velocity_Obstacle2()"
   ]
  }
 ],
 "metadata": {
  "kernelspec": {
   "display_name": "Python 3",
   "language": "python",
   "name": "python3"
  },
  "language_info": {
   "codemirror_mode": {
    "name": "ipython",
    "version": 3
   },
   "file_extension": ".py",
   "mimetype": "text/x-python",
   "name": "python",
   "nbconvert_exporter": "python",
   "pygments_lexer": "ipython3",
   "version": "3.7.3"
  }
 },
 "nbformat": 4,
 "nbformat_minor": 4
}
